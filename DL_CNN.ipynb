{
  "cells": [
    {
      "attachments": {},
      "cell_type": "markdown",
      "metadata": {
        "id": "WJnw8JFXr0Lp"
      },
      "source": [
        "# Deep Learning with Pytorch\n"
      ]
    },
    {
      "attachments": {},
      "cell_type": "markdown",
      "metadata": {
        "id": "3GhWYWezr0MW"
      },
      "source": [
        "## Tensors\n",
        "\n",
        "Tensors are the base datastructures in Pytorch. A `Tensor` is an n-dimensional array, similar to NumPy `ndarray`s, but with support for:\n",
        "- running on specialized hardware such as GPUs or other accelerators\n",
        "- automatic differentiation when using `Tensor`s in operations\n",
        "\n",
        "The Tensor API is also very similar to using `ndarray`. You can also easily convert NumPy `ndarray`s to `Tensor`s and vice versa."
      ]
    },
    {
      "attachments": {},
      "cell_type": "markdown",
      "metadata": {
        "id": "UCPDOs20r0MW"
      },
      "source": [
        "Tensors can be initialized directly from data, from NumPy arrays, from another tensor or with random or constant values."
      ]
    },
    {
      "cell_type": "code",
      "execution_count": 20,
      "metadata": {
        "colab": {
          "base_uri": "https://localhost:8080/"
        },
        "id": "fybpmhdqr0MX",
        "outputId": "def04ec0-7900-4db5-d525-5cd1cd718a54"
      },
      "outputs": [
        {
          "name": "stdout",
          "output_type": "stream",
          "text": [
            "tensor([[1, 2],\n",
            "        [3, 4]])\n",
            "tensor([[1, 2],\n",
            "        [3, 4]])\n",
            "tensor([[1, 1],\n",
            "        [1, 1]]) torch.int64\n",
            "tensor([[0.3072, 0.2779],\n",
            "        [0.8267, 0.0041]]) torch.float32\n",
            "tensor([[1., 1., 1.],\n",
            "        [1., 1., 1.]]) torch.Size([2, 3])\n",
            "tensor([[0., 0.],\n",
            "        [0., 0.],\n",
            "        [0., 0.]]) torch.Size([3, 2])\n",
            "tensor([[-0.1146,  1.6407,  0.4297],\n",
            "        [ 2.0481, -0.9743,  0.1346],\n",
            "        [ 0.3979,  0.3448, -0.6865]]) torch.Size([3, 3])\n"
          ]
        }
      ],
      "source": [
        "import torch\n",
        "import numpy as np\n",
        "import matplotlib.pyplot as plt\n",
        "\n",
        "\n",
        "# from data\n",
        "data = [[1, 2], [3, 4]]\n",
        "t1 = torch.tensor(data)\n",
        "print(t1)\n",
        "\n",
        "# from NumPy array\n",
        "np_array = np.array(data)\n",
        "t2 = torch.from_numpy(np_array)\n",
        "print(t2)\n",
        "\n",
        "# from other Tensor shape\n",
        "t3 = torch.ones_like(t2)\n",
        "t4 = torch.rand_like(t1, dtype=torch.float)\n",
        "print(t3, t3.dtype)\n",
        "print(t4, t4.dtype)\n",
        "\n",
        "# from shape\n",
        "t5 = torch.ones((2, 3))\n",
        "t6 = torch.zeros((3, 2))\n",
        "t7 = torch.randn((3, 3))\n",
        "print(t5, t5.shape)\n",
        "print(t6, t6.shape)\n",
        "print(t7, t7.shape)"
      ]
    },
    {
      "attachments": {},
      "cell_type": "markdown",
      "metadata": {
        "id": "Vcp-9GQjr0Ma"
      },
      "source": [
        "PyTorch includes over 100 tensor operations, such as transposing, indexing, slicing, mathematical operations, linear algebra, random sampling, etc. A comprehensive list is described [here](https://pytorch.org/docs/stable/torch.html). All operations can also run on the GPU when available (and the correct CUDA drivers installed). Tensors can be moved to an other device using the `to()` method."
      ]
    },
    {
      "cell_type": "code",
      "execution_count": 2,
      "metadata": {
        "colab": {
          "base_uri": "https://localhost:8080/"
        },
        "id": "26SP7X2Zr0Ma",
        "outputId": "72291ab0-66b9-427f-ae73-5dd1acd0d3dd"
      },
      "outputs": [
        {
          "name": "stdout",
          "output_type": "stream",
          "text": [
            "cuda:0\n",
            "cpu\n"
          ]
        }
      ],
      "source": [
        "if torch.cuda.is_available():\n",
        "    t1 = t1.to('cuda')\n",
        "    print(t1.device)\n",
        "    t1 = t1.to('cpu')\n",
        "    print(t1.device)"
      ]
    },
    {
      "attachments": {},
      "cell_type": "markdown",
      "metadata": {
        "id": "xhAhALs4r0Mb"
      },
      "source": [
        "The Tensor API is very similar to the NumPy API, with identical slicing and indexing. Convert a Numpy array to Tensor with `tensor = torch.from_numpy(arr)`, and vice versa with `arr = tensor.numpy()`. Both `tensor` and `arr` will be backed by the same memory, so changing one will affect the other as well. When running operations on the GPU or CPU, make sure that all involved `Tensor`s are on the correct device."
      ]
    },
    {
      "attachments": {},
      "cell_type": "markdown",
      "metadata": {
        "id": "Eyn4g8gbr0Mc"
      },
      "source": [
        "### Assignment 1\n",
        "\n",
        "Perform the following operations:\n",
        "\n",
        "- Create a 4x4 Tensor tensor1 filled with samples from a Gaussian with mean 0.5 and standard deviation 2.\n",
        "    \n",
        "- Multiply the upper left 2x2 of tensor1 component-wise with $[[2, 3], [4, 5]]$.\n",
        "    \n",
        "- Calculate tensor2 as the matrix multiplication of tensor1 and $[1, 2, 3, 4]$.\n",
        "    \n",
        "- Calculate *on the GPU* tensor3 as the matrix multiplication of tensor1 and the column vector $[4, 3, 2, 1]^T$.\n",
        "    \n",
        "- Concatenate tensor2 and tensor3 into a vector of shape (8,).\n",
        "    \n",
        "- Print the average, min and max value of this vector."
      ]
    },
    {
      "cell_type": "code",
      "execution_count": 3,
      "metadata": {
        "colab": {
          "base_uri": "https://localhost:8080/"
        },
        "id": "dpIGP-S1r0Md",
        "outputId": "e2d856dc-f8e4-4fb4-eae4-b3090a678b52"
      },
      "outputs": [
        {
          "name": "stdout",
          "output_type": "stream",
          "text": [
            "Average: -0.7077131271362305, Min: -26.64603042602539, Max: 18.121334075927734\n"
          ]
        }
      ],
      "source": [
        "tensor1 = torch.randn(4, 4) * 2 + 0.5\n",
        "tensor1[:2,:2] *= torch.tensor([[2,3],[4,5]])\n",
        "tensor2 = torch.matmul(tensor1, torch.tensor([1.0,2.0,3.0,4.0]))\n",
        "tensor3 = torch.matmul(tensor1.cuda(), torch.tensor([4.0,3.0,2.0,1.0]).cuda())\n",
        "vector = torch.cat((tensor2.cpu(), tensor3.cpu()))\n",
        "print(f'Average: {vector.mean()}, Min: {vector.min()}, Max: {vector.max()}')"
      ]
    },
    {
      "attachments": {},
      "cell_type": "markdown",
      "metadata": {
        "id": "BluKMMyWr0Mg"
      },
      "source": [
        "## Datasets\n",
        "\n",
        "PyTorch uses the [`torch.utils.data.Dataset`](https://pytorch.org/docs/stable/data.html#torch.utils.data.Dataset) abstract class to represent a dataset. Datasets typically take a `transform` argument at construction, which allows to define extra preprocessing transformations on the raw data. This can be combined with  [`torch.utils.data.DataLoader`](https://pytorch.org/docs/stable/data.html#torch.utils.data.DataLoader) which provides a Python iterable over a dataset with support for automatic batching, shuffling and multi-process data loading."
      ]
    },
    {
      "attachments": {},
      "cell_type": "markdown",
      "metadata": {
        "id": "i6vpNk2pr0Mg"
      },
      "source": [
        "For vision datasets in particular, Pytorch provides the [`torchvision`](https://pytorch.org/docs/stable/torchvision/index.html) package, which contains popular datasets, common image transformations and pretrained model architectures. Common image transformations are used to convert from a raw image format into a `Tensor`, to take random crops, add color jitter, etc. Transforms can be composed together using the [`torchvision.transforms.Compose`](https://pytorch.org/docs/stable/torchvision/transforms.html#torchvision.transforms.Compose) transform. Common image datasets such as ImageNet, CIFAR and MNIST are readily available from [`torchvision.datasets`](https://pytorch.org/docs/stable/torchvision/datasets.html).  \n",
        "\n",
        "Also some utilities to save images are provided in the [`torchvision.utils`](https://pytorch.org/docs/stable/torchvision/utils.html) package. Note that Pytorch uses the `[Channels x Height x Width]` dimension order for representing images, in contrast to for example NumPy and matplotlib, that use the `[Height x Width x Channels]` layout. Keep this in mind when plotting images represented as Tensors."
      ]
    },
    {
      "attachments": {},
      "cell_type": "markdown",
      "metadata": {
        "id": "0E645I6lr0Mh"
      },
      "source": [
        "### Assignment 2\n",
        "\n",
        "The MNIST dataset contains 28x28 binary images of handwritten digits. It is often used in machine learning as a toy dataset to build a proof of principle for novel techniques. Througout the lab sessions we will also use this dataset to illustrate many of the models introduced during the course.\n",
        "\n",
        "Load the MNIST train set and use the transforms to pad to a 32x32 image, convert to a `Tensor` and renormalize the values between `[-1, 1]` instead of `[0, 1]`. Use a `DataLoader` to get a random batch of 16 items and plot these in a 4x4 grid, and print the corresponding labels as a 4x4 matrix."
      ]
    },
    {
      "cell_type": "code",
      "execution_count": 21,
      "metadata": {
        "colab": {
          "base_uri": "https://localhost:8080/",
          "height": 479
        },
        "id": "bX7ifF8Wr0Mh",
        "outputId": "ca76be50-3904-4396-a604-c7ee06dc4e25"
      },
      "outputs": [
        {
          "name": "stdout",
          "output_type": "stream",
          "text": [
            "tensor([[2, 8, 8, 1],\n",
            "        [4, 7, 6, 7],\n",
            "        [5, 4, 6, 1],\n",
            "        [7, 8, 4, 5]])\n"
          ]
        },
        {
          "data": {
            "image/png": "[encoded data removed]",
            "text/plain": [
              "<Figure size 640x480 with 16 Axes>"
            ]
          },
          "metadata": {},
          "output_type": "display_data"
        }
      ],
      "source": [
        "import torchvision\n",
        "import torchvision.transforms as transforms\n",
        "\n",
        "transform = transforms.Compose([\n",
        "    transforms.Pad(2),\n",
        "    transforms.ToTensor(),\n",
        "    transforms.Normalize((0.5,), (0.5,))\n",
        "])\n",
        "# Changed the structure of the code because did not know how to make it work if transform is used after creating the mnist object\n",
        "mnist = torchvision.datasets.MNIST(root='./data', download=True, transform=transform)\n",
        "\n",
        "trainloader = torch.utils.data.DataLoader(mnist, batch_size=16, shuffle=True)\n",
        "dataiter = iter(trainloader)\n",
        "images, labels = next(dataiter)\n",
        "\n",
        "fig, axs = plt.subplots(4, 4)\n",
        "for i in range(4):\n",
        "    for j in range(4):\n",
        "        axs[i,j].imshow(images[i*4+j].squeeze(), cmap='gray')\n",
        "        axs[i,j].axis('off')\n",
        "\n",
        "print(labels.view(4,4))\n",
        "plt.show()"
      ]
    },
    {
      "attachments": {},
      "cell_type": "markdown",
      "metadata": {
        "id": "aPE5aLGHr0Mi"
      },
      "source": [
        "## Custom datasets\n",
        "\n",
        "You can also create custom datasets by implementing your own [`torch.utils.data.Dataset`](https://pytorch.org/docs/stable/data.html#torch.utils.data.Dataset) class. Only two methods need to be implemented:\n",
        "\n",
        "- `__len__` so that `len(dataset)` returns the size of the dataset\n",
        "- `__getitem__` to support indexing such that `dataset[i]` returns the _i_th element\n"
      ]
    },
    {
      "attachments": {},
      "cell_type": "markdown",
      "metadata": {
        "id": "AdXbIwSEr0Mi"
      },
      "source": [
        "### Assignment 3\n",
        "\n",
        "Create a custom Pytorch dataset `MoonDataset` using [the moons data from sklearn](https://scikit-learn.org/stable/modules/generated/sklearn.datasets.make_moons.html). The dataset returns a tuple `(sample, label)` where `sample` is the 2D tensor of the x and y coordinate, and `label` is the label 0 or 1. The size of the dataset should be 1000. Also add some Gaussian noise with standard deviation 0.1 to the samples.\n",
        "\n",
        "Using this dataset, create a DataLoader that samples a random batch of 100 points and plots these in an XY grid (red for label 0, blue for label 1)."
      ]
    },
    {
      "cell_type": "code",
      "execution_count": 24,
      "metadata": {
        "colab": {
          "base_uri": "https://localhost:8080/",
          "height": 521
        },
        "id": "jU12JP4zr0Mi",
        "outputId": "e807c196-31e7-44dc-cf7c-1a9d0ce5b425"
      },
      "outputs": [
        {
          "name": "stdout",
          "output_type": "stream",
          "text": [
            "tensor([0, 1, 0, 1, 1, 1, 0, 1, 1, 0, 1, 0, 0, 1, 1, 0, 0, 0, 1, 1, 1, 1, 1, 0,\n",
            "        0, 0, 1, 0, 0, 1, 0, 0, 0, 1, 1, 1, 0, 1, 1, 0, 0, 0, 0, 1, 0, 0, 0, 1,\n",
            "        1, 1, 0, 0, 0, 1, 0, 1, 0, 1, 0, 0, 0, 1, 1, 1, 1, 0, 1, 0, 1, 1, 0, 1,\n",
            "        1, 1, 0, 1, 1, 1, 0, 1, 1, 1, 0, 0, 0, 0, 1, 0, 0, 1, 1, 0, 0, 0, 1, 1,\n",
            "        1, 1, 1, 1])\n"
          ]
        },
        {
          "data": {
            "image/png": "[encoded data removed]",
            "text/plain": [
              "<Figure size 640x480 with 1 Axes>"
            ]
          },
          "metadata": {},
          "output_type": "display_data"
        }
      ],
      "source": [
        "from torch.utils.data import Dataset, DataLoader\n",
        "from sklearn.datasets import make_moons\n",
        "from matplotlib.colors import ListedColormap\n",
        "\n",
        "class MoonDataset(Dataset):\n",
        "    def __init__(self, n_samples=1000, noise=0.1):\n",
        "        X, y = make_moons(n_samples=n_samples, noise=noise)\n",
        "        self.samples = torch.tensor(X)\n",
        "        self.labels = torch.tensor(y)\n",
        "\n",
        "    def __len__(self):\n",
        "        return len(self.labels)\n",
        "\n",
        "    def __getitem__(self, idx):\n",
        "        return self.samples[idx], self.labels[idx]\n",
        "\n",
        "dataset = MoonDataset()\n",
        "\n",
        "dataloader = DataLoader(dataset, batch_size=100, shuffle=True)\n",
        "dataiter = iter(dataloader)\n",
        "samples, labels = next(dataiter)\n",
        "\n",
        "print(labels)\n",
        "cmap = ListedColormap([\"red\", \"blue\"])\n",
        "plt.scatter(samples[:,0], samples[:,1], c=labels, cmap=cmap)\n",
        "plt.show()"
      ]
    },
    {
      "attachments": {},
      "cell_type": "markdown",
      "metadata": {
        "id": "0Y350mFdr0Mi"
      },
      "source": [
        "## Neural networks\n",
        "\n",
        "Neural networks in Pytorch are defined as [`torch.nn.Module`](https://pytorch.org/docs/stable/generated/torch.nn.Module.html#torch.nn.Module)s. A `Module` is the basic building block of a neural network, but can also be composed of different other `Module`s. This way, complex models can be built. To implement your custom `Module`, extend this class and implement the `forward()` method. This function takes the input `Tensor` as argument, and returns the resulting Tensor after processing. The `forward()` method is also called from `__call__`, allowing you to have module instance to behave as a function.\n",
        "\n",
        "`Module` also provides the following methods:\n",
        "- `parameters()` returns an iterator over the trainable parameters. This is typically provided to an optimizer.\n",
        "- `state_dict()` returns a dictionary containing the whole state of the module. Use this to persist your model after training.\n",
        "- `load_state_dict(dict)` loads a state dictionary. Use this to load a model that you persisted earlier.\n",
        "- `to(device)` puts the module on a device. For example use `to(\"cuda\")` to deploy your model on a GPU.\n",
        "- `backward()` backpropagates gradients from the output to the input and accumulates the gradients w.r.t. the parameters.\n",
        "- `zero_grad()` sets the parameter gradients back to zero.\n",
        "- `eval() / train()` sets the model in eval or train mode. Some modules behave differently depending on this mode.\n",
        "\n",
        "By default, modules that are instantiated as class members, will automatically be added as children to your module. For example, the parameters of the child modules will also show up in `parameters()`. \n",
        "\n",
        "The [`torch.nn`](https://pytorch.org/docs/stable/nn.html) package contains a lot of basic building blocks for neural networks. These can be instantiated as `Module`s, but typically also have a functional counterpart defined in [`torch.nn.functional`](https://pytorch.org/docs/stable/nn.functional.html)."
      ]
    },
    {
      "attachments": {},
      "cell_type": "markdown",
      "metadata": {
        "id": "hbWRtP35r0Mj"
      },
      "source": [
        "For example, a simple fully connected neural network with a single hidden layer can be defined as: "
      ]
    },
    {
      "cell_type": "code",
      "execution_count": 25,
      "metadata": {
        "id": "NuhJxlcxr0Mj"
      },
      "outputs": [],
      "source": [
        "from torch.nn import Linear\n",
        "from torch.nn.functional import relu\n",
        "\n",
        "class Perceptron(torch.nn.Module):\n",
        "    \n",
        "    def __init__(self, num_inputs, num_hidden, num_outputs):\n",
        "        torch.nn.Module.__init__(self)\n",
        "        self.linear1 = Linear(num_inputs, num_hidden)\n",
        "        self.linear2 = Linear(num_hidden, num_outputs)\n",
        "        \n",
        "    def forward(self, x):\n",
        "        h = relu(self.linear1(x))\n",
        "        y = self.linear2(h)\n",
        "        return y\n"
      ]
    },
    {
      "attachments": {},
      "cell_type": "markdown",
      "metadata": {
        "id": "qNvXoUIqr0Mj"
      },
      "source": [
        "When forwarding data through a `Module`, it always expects the first dimension to be the batch dimension. When forwarding a single item, you'll need to add a batch dimension, e.g. by `unsqueeze(0)`. So for example, we can instantiate this model to process 32x32 pixels into 10 outputs to process digits from the MNIST dataset:"
      ]
    },
    {
      "cell_type": "code",
      "execution_count": 26,
      "metadata": {
        "colab": {
          "base_uri": "https://localhost:8080/"
        },
        "id": "SUcRyHVZr0Mk",
        "outputId": "ba6aae3e-e7b7-4f87-e436-dff8b83fcc2b"
      },
      "outputs": [
        {
          "name": "stdout",
          "output_type": "stream",
          "text": [
            "tensor([[-0.0722,  0.0379,  0.0830, -0.0257, -0.0733, -0.0091, -0.0123, -0.0371,\n",
            "          0.0722,  0.0020]], grad_fn=<AddmmBackward0>)\n"
          ]
        }
      ],
      "source": [
        "model = Perceptron(32*32, 100, 10)\n",
        "inputs = torch.zeros((32*32))\n",
        "outputs = model(inputs.unsqueeze(0))\n",
        "print(outputs)"
      ]
    },
    {
      "attachments": {},
      "cell_type": "markdown",
      "metadata": {
        "id": "69z6-2tnr0Mk"
      },
      "source": [
        "### Assignment 4\n",
        "\n",
        "One of the earliest convolutional neural networks was [LeNet](http://yann.lecun.com/exdb/publis/pdf/lecun-01a.pdf). We will build a `LeNet` class that resembles the LeNet-5 architecture, but with a few updates to latest standards.\n",
        "![LeNet](https://paperswithcode.com/media/methods/LeNet_Original_Image_48T74Lc.jpg)\n",
        "\n",
        "The model should be composed of 4 convolutional layers and 3 fully connected layers:\n",
        "\n",
        "- `C1` consists of 6 filters of 5x5, stride 1.\n",
        "- `S2` acts as a downsampling layer, using 6 filters of 2x2 and stride 2.\n",
        "- `C3` performs again a 5x5 convolution, stride 1, but with 16 filters.\n",
        "- `S4` agains downsamples using 2x2 convolutions.\n",
        "\n",
        "The fully connected layers have 120, 84 and 10 outputs respectively. Instead of `tanh` activations in the original paper, we will use `relu`s after each hidden layer. The model should be able to process 32x32 images, and return 10 logit outputs. Test your model by forwarding the batch of images obtained in Assignment 2.\n",
        "\n",
        "To calculate the correct dimensionality of the hidden layers after the convolutions, you can use this handy calculator: https://madebyollin.github.io/convnet-calculator"
      ]
    },
    {
      "cell_type": "code",
      "execution_count": 27,
      "metadata": {
        "id": "nTbaiGgYr0Mk"
      },
      "outputs": [],
      "source": [
        "from torch.nn import Conv2d, MaxPool2d\n",
        "import torch.nn.functional as F\n",
        "\n",
        "\n",
        "class LeNet(torch.nn.Module):\n",
        "\n",
        "  def __init__(self):\n",
        "      torch.nn.Module.__init__(self)\n",
        "      self.conv1 = Conv2d(in_channels=1, out_channels=6, kernel_size=5, stride=1)\n",
        "      self.pool1 = MaxPool2d(2,2)\n",
        "      self.conv2 = Conv2d(in_channels=6, out_channels=16, kernel_size=5, stride=1)\n",
        "      self.pool2 = MaxPool2d(2,2)\n",
        "\n",
        "      self.linear1 = Linear(16*5*5, 120)\n",
        "      self.linear2 = Linear(120, 84)\n",
        "      self.linear3 = Linear(84, 10)\n",
        "\n",
        "  def forward(self, x):\n",
        "      x = F.relu(self.conv1(x))\n",
        "      x = self.pool1(x)\n",
        "      x = F.relu(self.conv2(x))\n",
        "      x = self.pool2(x)\n",
        "      x = x.view(-1, 16 * 5 * 5)  #Flatten\n",
        "      x = F.relu(self.linear1(x))\n",
        "      x = F.relu(self.linear2(x))\n",
        "      x = self.linear3(x)\n",
        "      return x\n",
        "\n"
      ]
    },
    {
      "cell_type": "code",
      "execution_count": 30,
      "metadata": {
        "id": "QNAkrGtVfnOm"
      },
      "outputs": [],
      "source": [
        "net = LeNet()\n",
        "output = net(images)"
      ]
    },
    {
      "attachments": {},
      "cell_type": "markdown",
      "metadata": {
        "id": "jPX2_LV4r0Mk"
      },
      "source": [
        "## Training\n",
        "\n",
        "To train the neural network, you need two more ingredients: the loss function and the optimizer.\n",
        "\n",
        "A loss function typically compares your neural network output to a certain target value. A number of loss functions are available as `Module`s in [`torch.nn`](https://pytorch.org/docs/stable/nn.html#loss-functions), but in principle you can implement any operation that works on the output tensor of the model. To backpropagate the gradients, call `backward()` on the loss `Tensor`. This will use the chain rule to calculate the gradients wrt the inputs and the parameters of all `Module`s involved in the computation graph.\n",
        "\n",
        "The optimizer transforms the raw gradients into an update rule for the parameters. Pytorch provides the [`torch.optim.Optimizer`](https://pytorch.org/docs/stable/optim.html) class, together with implementations of most popular optimization schemes. The `Optimizer` is typically constructed from the model's parameters iterable (i.e. by calling `model.parameters()`), and optimizer-specific configuration. When the gradients are backpropagated, call the `step()` function of the `Optimizer`. This will perform the parameter update for all involved weights. Do not forget to clear the gradients after each step by calling `zero_grad()`, else gradients will keep accumulating.\n",
        "\n",
        "Putting everything together, a basic training routine looks like this:\n",
        "\n",
        "```\n",
        "# initialize dataset\n",
        "dataset = ...\n",
        "loader = DataLoader(dataset, ...)\n",
        "\n",
        "# initialize model\n",
        "model = ...\n",
        "\n",
        "# intialize optimizer\n",
        "optimizer = MyPreferredOptimizer(model.parameters(), ...)\n",
        "\n",
        "# start training\n",
        "for epoch in range(num_epochs):\n",
        "    for i, data in enumerate(loader):\n",
        "        inputs, labels = data\n",
        "        \n",
        "        # zero parameter gradient\n",
        "        optimizer.zero_grad()\n",
        "        \n",
        "        # forward, backward, optimize\n",
        "        outputs = model(inputs)\n",
        "        loss = MyLossFunction(outputs, labels)\n",
        "        loss.backward()\n",
        "        optimizer.step()\n",
        "```"
      ]
    },
    {
      "attachments": {},
      "cell_type": "markdown",
      "metadata": {
        "id": "NktV0KGvr0Ml"
      },
      "source": [
        "### Assignment 5\n",
        "\n",
        "Train the LeNet model from Assignment 4 for 10-way classification on the MNIST train set. Use the `CrossEntropyLoss` and a basic `SGD` optimizer. It's useful to log the loss values during training to see how the training progresses. Make sure to run everything on GPU to reduce your waiting time :-)."
      ]
    },
    {
      "cell_type": "code",
      "execution_count": 37,
      "metadata": {
        "colab": {
          "base_uri": "https://localhost:8080/"
        },
        "id": "GDHJLaREr0Ml",
        "outputId": "1977dd60-32e1-4163-9ebd-2b373d8b8ee7"
      },
      "outputs": [
        {
          "name": "stdout",
          "output_type": "stream",
          "text": [
            "[1, 2000] loss: 2.294584609746933\n",
            "[2, 2000] loss: 4.073395551025867\n",
            "[3, 2000] loss: 1.2626070861965417\n",
            "[4, 2000] loss: 0.6272566215237603\n",
            "[5, 2000] loss: 0.46900721909990534\n",
            "[6, 2000] loss: 0.371276934592519\n",
            "[7, 2000] loss: 0.31600204326980746\n",
            "[8, 2000] loss: 0.2740531959560467\n",
            "[9, 2000] loss: 0.2395185366856167\n",
            "[10, 2000] loss: 0.21807051669730573\n",
            "19.22447551266523\n"
          ]
        }
      ],
      "source": [
        "from torch.optim import SGD\n",
        "import torch.optim as optim\n",
        "import torch.nn as nn\n",
        "\n",
        "# initialize model\n",
        "model = LeNet().cuda()\n",
        "\n",
        "# intialize optimizer\n",
        "optimizer = SGD(model.parameters(), lr=0.001)\n",
        "\n",
        "criterion = nn.CrossEntropyLoss()\n",
        "\n",
        "num_epochs = 10\n",
        "running_loss = 0\n",
        "\n",
        "# start training\n",
        "for epoch in range(num_epochs):\n",
        "    for i, data in enumerate(trainloader):\n",
        "        inputs, labels = data\n",
        "\n",
        "        inputs = inputs.cuda()\n",
        "        labels = labels.cuda()\n",
        "        # zero parameter gradient\n",
        "        optimizer.zero_grad()\n",
        "\n",
        "        # forward, backward, optimize\n",
        "        outputs = model(inputs).cuda()\n",
        "\n",
        "        loss = criterion(outputs, labels)\n",
        "  \n",
        "        loss.backward()\n",
        "        optimizer.step()\n",
        "\n",
        "        running_loss += loss.item()\n",
        "        if i % 2000 == 1999:\n",
        "            print(f'[{epoch + 1}, {i + 1}] loss: {running_loss / 2000}')\n",
        "            running_loss = 0.0\n"
      ]
    },
    {
      "attachments": {},
      "cell_type": "markdown",
      "metadata": {
        "id": "WIaBSxjRr0Ml"
      },
      "source": [
        "## Testing\n",
        "\n",
        "In case of a supervised classification task, you typically evaluate performance on a separate test set. For classification, you add a softmax operation after the logits, so these are renormalized and can be used as parameters of a Categorical distribution. You can now count the number of correct classifications by looking at the highest softmax activation.\n",
        "\n",
        "Although you might want to evaluate only a single sample, Pytorch always requires a batch dimension. So in case of a single sample, the batch dimension will be 1. You can use the `squeeze(0)` and `unsqueeze(0)` methods to remove or add a batch dimension of 1 to your data. Also, the output tensor of the neural network is not just a datastructure containing the data. It also keeps information from the whole compute graph (i.e. this is how Pytorch can backpropagate gradients for you). Therefore, if you want to process the outputs of a neural network again as a numpy array in an other library, make sure to first call `detach()` to detach it from the compute graph, and optionally `cpu()` to move it to CPU memory before you can call `numpy()`.\n",
        "\n",
        "In evaluation mode, you don't need to backpropagate any gradients, and Pytorch hence does not need to do all the bookkeeping of tracking the computation graph and keeping intermediate gradients. A convenient way to avoid this overhead is by wrapping your evaluation code in a `with torch.no_grad():` statement."
      ]
    },
    {
      "attachments": {},
      "cell_type": "markdown",
      "metadata": {
        "id": "VU2-XHGqr0Ml"
      },
      "source": [
        "### Assignment 6\n",
        "\n",
        "Create a dataset for the MNIST test set. Load a single image sample and forward it through the neural network. Visualize a bar chart of the softmax'ed output together with the input image to check the performance qualitatively."
      ]
    },
    {
      "cell_type": "code",
      "execution_count": 45,
      "metadata": {
        "colab": {
          "base_uri": "https://localhost:8080/",
          "height": 414
        },
        "id": "CF9oQ9iHr0Ml",
        "outputId": "93abbb81-c9a2-4113-b763-592cd06cddef"
      },
      "outputs": [
        {
          "name": "stdout",
          "output_type": "stream",
          "text": [
            "torch.Size([1, 100, 2])\n"
          ]
        },
        {
          "ename": "RuntimeError",
          "evalue": "ignored",
          "output_type": "error",
          "traceback": [
            "\u001b[0;31m---------------------------------------------------------------------------\u001b[0m",
            "\u001b[0;31mRuntimeError\u001b[0m                              Traceback (most recent call last)",
            "\u001b[0;32m<ipython-input-45-b7c4afc3fff3>\u001b[0m in \u001b[0;36m<cell line: 10>\u001b[0;34m()\u001b[0m\n\u001b[1;32m      8\u001b[0m \u001b[0mprint\u001b[0m\u001b[0;34m(\u001b[0m\u001b[0mimage\u001b[0m\u001b[0;34m.\u001b[0m\u001b[0mshape\u001b[0m\u001b[0;34m)\u001b[0m\u001b[0;34m\u001b[0m\u001b[0;34m\u001b[0m\u001b[0m\n\u001b[1;32m      9\u001b[0m \u001b[0;34m\u001b[0m\u001b[0m\n\u001b[0;32m---> 10\u001b[0;31m \u001b[0moutput\u001b[0m \u001b[0;34m=\u001b[0m \u001b[0mmodel\u001b[0m\u001b[0;34m(\u001b[0m\u001b[0mimage\u001b[0m\u001b[0;34m)\u001b[0m\u001b[0;34m\u001b[0m\u001b[0;34m\u001b[0m\u001b[0m\n\u001b[0m\u001b[1;32m     11\u001b[0m \u001b[0mprob\u001b[0m \u001b[0;34m=\u001b[0m \u001b[0mtorch\u001b[0m\u001b[0;34m.\u001b[0m\u001b[0msoftmax\u001b[0m\u001b[0;34m(\u001b[0m\u001b[0moutput\u001b[0m\u001b[0;34m,\u001b[0m \u001b[0mdim\u001b[0m\u001b[0;34m=\u001b[0m\u001b[0;36m1\u001b[0m\u001b[0;34m)\u001b[0m\u001b[0;34m\u001b[0m\u001b[0;34m\u001b[0m\u001b[0m\n\u001b[1;32m     12\u001b[0m \u001b[0;34m\u001b[0m\u001b[0m\n",
            "\u001b[0;32m/usr/local/lib/python3.9/dist-packages/torch/nn/modules/module.py\u001b[0m in \u001b[0;36m_call_impl\u001b[0;34m(self, *args, **kwargs)\u001b[0m\n\u001b[1;32m   1499\u001b[0m                 \u001b[0;32mor\u001b[0m \u001b[0m_global_backward_pre_hooks\u001b[0m \u001b[0;32mor\u001b[0m \u001b[0m_global_backward_hooks\u001b[0m\u001b[0;34m\u001b[0m\u001b[0;34m\u001b[0m\u001b[0m\n\u001b[1;32m   1500\u001b[0m                 or _global_forward_hooks or _global_forward_pre_hooks):\n\u001b[0;32m-> 1501\u001b[0;31m             \u001b[0;32mreturn\u001b[0m \u001b[0mforward_call\u001b[0m\u001b[0;34m(\u001b[0m\u001b[0;34m*\u001b[0m\u001b[0margs\u001b[0m\u001b[0;34m,\u001b[0m \u001b[0;34m**\u001b[0m\u001b[0mkwargs\u001b[0m\u001b[0;34m)\u001b[0m\u001b[0;34m\u001b[0m\u001b[0;34m\u001b[0m\u001b[0m\n\u001b[0m\u001b[1;32m   1502\u001b[0m         \u001b[0;31m# Do not call functions when jit is used\u001b[0m\u001b[0;34m\u001b[0m\u001b[0;34m\u001b[0m\u001b[0m\n\u001b[1;32m   1503\u001b[0m         \u001b[0mfull_backward_hooks\u001b[0m\u001b[0;34m,\u001b[0m \u001b[0mnon_full_backward_hooks\u001b[0m \u001b[0;34m=\u001b[0m \u001b[0;34m[\u001b[0m\u001b[0;34m]\u001b[0m\u001b[0;34m,\u001b[0m \u001b[0;34m[\u001b[0m\u001b[0;34m]\u001b[0m\u001b[0;34m\u001b[0m\u001b[0;34m\u001b[0m\u001b[0m\n",
            "\u001b[0;32m<ipython-input-27-b1e4774822aa>\u001b[0m in \u001b[0;36mforward\u001b[0;34m(self, x)\u001b[0m\n\u001b[1;32m     17\u001b[0m \u001b[0;34m\u001b[0m\u001b[0m\n\u001b[1;32m     18\u001b[0m   \u001b[0;32mdef\u001b[0m \u001b[0mforward\u001b[0m\u001b[0;34m(\u001b[0m\u001b[0mself\u001b[0m\u001b[0;34m,\u001b[0m \u001b[0mx\u001b[0m\u001b[0;34m)\u001b[0m\u001b[0;34m:\u001b[0m\u001b[0;34m\u001b[0m\u001b[0;34m\u001b[0m\u001b[0m\n\u001b[0;32m---> 19\u001b[0;31m       \u001b[0mx\u001b[0m \u001b[0;34m=\u001b[0m \u001b[0mF\u001b[0m\u001b[0;34m.\u001b[0m\u001b[0mrelu\u001b[0m\u001b[0;34m(\u001b[0m\u001b[0mself\u001b[0m\u001b[0;34m.\u001b[0m\u001b[0mconv1\u001b[0m\u001b[0;34m(\u001b[0m\u001b[0mx\u001b[0m\u001b[0;34m)\u001b[0m\u001b[0;34m)\u001b[0m\u001b[0;34m\u001b[0m\u001b[0;34m\u001b[0m\u001b[0m\n\u001b[0m\u001b[1;32m     20\u001b[0m       \u001b[0mx\u001b[0m \u001b[0;34m=\u001b[0m \u001b[0mself\u001b[0m\u001b[0;34m.\u001b[0m\u001b[0mpool1\u001b[0m\u001b[0;34m(\u001b[0m\u001b[0mx\u001b[0m\u001b[0;34m)\u001b[0m\u001b[0;34m\u001b[0m\u001b[0;34m\u001b[0m\u001b[0m\n\u001b[1;32m     21\u001b[0m       \u001b[0mx\u001b[0m \u001b[0;34m=\u001b[0m \u001b[0mF\u001b[0m\u001b[0;34m.\u001b[0m\u001b[0mrelu\u001b[0m\u001b[0;34m(\u001b[0m\u001b[0mself\u001b[0m\u001b[0;34m.\u001b[0m\u001b[0mconv2\u001b[0m\u001b[0;34m(\u001b[0m\u001b[0mx\u001b[0m\u001b[0;34m)\u001b[0m\u001b[0;34m)\u001b[0m\u001b[0;34m\u001b[0m\u001b[0;34m\u001b[0m\u001b[0m\n",
            "\u001b[0;32m/usr/local/lib/python3.9/dist-packages/torch/nn/modules/module.py\u001b[0m in \u001b[0;36m_call_impl\u001b[0;34m(self, *args, **kwargs)\u001b[0m\n\u001b[1;32m   1499\u001b[0m                 \u001b[0;32mor\u001b[0m \u001b[0m_global_backward_pre_hooks\u001b[0m \u001b[0;32mor\u001b[0m \u001b[0m_global_backward_hooks\u001b[0m\u001b[0;34m\u001b[0m\u001b[0;34m\u001b[0m\u001b[0m\n\u001b[1;32m   1500\u001b[0m                 or _global_forward_hooks or _global_forward_pre_hooks):\n\u001b[0;32m-> 1501\u001b[0;31m             \u001b[0;32mreturn\u001b[0m \u001b[0mforward_call\u001b[0m\u001b[0;34m(\u001b[0m\u001b[0;34m*\u001b[0m\u001b[0margs\u001b[0m\u001b[0;34m,\u001b[0m \u001b[0;34m**\u001b[0m\u001b[0mkwargs\u001b[0m\u001b[0;34m)\u001b[0m\u001b[0;34m\u001b[0m\u001b[0;34m\u001b[0m\u001b[0m\n\u001b[0m\u001b[1;32m   1502\u001b[0m         \u001b[0;31m# Do not call functions when jit is used\u001b[0m\u001b[0;34m\u001b[0m\u001b[0;34m\u001b[0m\u001b[0m\n\u001b[1;32m   1503\u001b[0m         \u001b[0mfull_backward_hooks\u001b[0m\u001b[0;34m,\u001b[0m \u001b[0mnon_full_backward_hooks\u001b[0m \u001b[0;34m=\u001b[0m \u001b[0;34m[\u001b[0m\u001b[0;34m]\u001b[0m\u001b[0;34m,\u001b[0m \u001b[0;34m[\u001b[0m\u001b[0;34m]\u001b[0m\u001b[0;34m\u001b[0m\u001b[0;34m\u001b[0m\u001b[0m\n",
            "\u001b[0;32m/usr/local/lib/python3.9/dist-packages/torch/nn/modules/conv.py\u001b[0m in \u001b[0;36mforward\u001b[0;34m(self, input)\u001b[0m\n\u001b[1;32m    461\u001b[0m \u001b[0;34m\u001b[0m\u001b[0m\n\u001b[1;32m    462\u001b[0m     \u001b[0;32mdef\u001b[0m \u001b[0mforward\u001b[0m\u001b[0;34m(\u001b[0m\u001b[0mself\u001b[0m\u001b[0;34m,\u001b[0m \u001b[0minput\u001b[0m\u001b[0;34m:\u001b[0m \u001b[0mTensor\u001b[0m\u001b[0;34m)\u001b[0m \u001b[0;34m->\u001b[0m \u001b[0mTensor\u001b[0m\u001b[0;34m:\u001b[0m\u001b[0;34m\u001b[0m\u001b[0;34m\u001b[0m\u001b[0m\n\u001b[0;32m--> 463\u001b[0;31m         \u001b[0;32mreturn\u001b[0m \u001b[0mself\u001b[0m\u001b[0;34m.\u001b[0m\u001b[0m_conv_forward\u001b[0m\u001b[0;34m(\u001b[0m\u001b[0minput\u001b[0m\u001b[0;34m,\u001b[0m \u001b[0mself\u001b[0m\u001b[0;34m.\u001b[0m\u001b[0mweight\u001b[0m\u001b[0;34m,\u001b[0m \u001b[0mself\u001b[0m\u001b[0;34m.\u001b[0m\u001b[0mbias\u001b[0m\u001b[0;34m)\u001b[0m\u001b[0;34m\u001b[0m\u001b[0;34m\u001b[0m\u001b[0m\n\u001b[0m\u001b[1;32m    464\u001b[0m \u001b[0;34m\u001b[0m\u001b[0m\n\u001b[1;32m    465\u001b[0m \u001b[0;32mclass\u001b[0m \u001b[0mConv3d\u001b[0m\u001b[0;34m(\u001b[0m\u001b[0m_ConvNd\u001b[0m\u001b[0;34m)\u001b[0m\u001b[0;34m:\u001b[0m\u001b[0;34m\u001b[0m\u001b[0;34m\u001b[0m\u001b[0m\n",
            "\u001b[0;32m/usr/local/lib/python3.9/dist-packages/torch/nn/modules/conv.py\u001b[0m in \u001b[0;36m_conv_forward\u001b[0;34m(self, input, weight, bias)\u001b[0m\n\u001b[1;32m    457\u001b[0m                             \u001b[0mweight\u001b[0m\u001b[0;34m,\u001b[0m \u001b[0mbias\u001b[0m\u001b[0;34m,\u001b[0m \u001b[0mself\u001b[0m\u001b[0;34m.\u001b[0m\u001b[0mstride\u001b[0m\u001b[0;34m,\u001b[0m\u001b[0;34m\u001b[0m\u001b[0;34m\u001b[0m\u001b[0m\n\u001b[1;32m    458\u001b[0m                             _pair(0), self.dilation, self.groups)\n\u001b[0;32m--> 459\u001b[0;31m         return F.conv2d(input, weight, bias, self.stride,\n\u001b[0m\u001b[1;32m    460\u001b[0m                         self.padding, self.dilation, self.groups)\n\u001b[1;32m    461\u001b[0m \u001b[0;34m\u001b[0m\u001b[0m\n",
            "\u001b[0;31mRuntimeError\u001b[0m: Calculated padded input size per channel: (100 x 2). Kernel size: (5 x 5). Kernel size can't be greater than actual input size"
          ]
        }
      ],
      "source": [
        "transform = transforms.Compose([ transforms.Pad(2),transforms.ToTensor(),transforms.Normalize((0.5,), (0.5,))])\n",
        "testset = torchvision.datasets.MNIST(root='./data', train=False, download=True, transform=transform)\n",
        "testloader = DataLoader(testset, batch_size=1, shuffle=True)\n",
        "\n",
        "image, label = next(dataiter)\n",
        "image = image.float().unsqueeze(0).cuda()\n",
        "\n",
        "print(image.shape)\n",
        "\n",
        "output = model(image)\n",
        "prob = torch.softmax(output, dim=1)\n",
        "\n",
        "fig, axs = plt.subplots(1, 2)\n",
        "axs[0].imshow(image.squeeze().cpu(), cmap='gray')\n",
        "axs[0].axis('off')\n",
        "axs[1].bar(range(10), prob.squeeze().cpu().detach().numpy())\n",
        "plt.show()"
      ]
    },
    {
      "attachments": {},
      "cell_type": "markdown",
      "metadata": {
        "id": "mgNvdvnHr0Ml"
      },
      "source": [
        "To quantitatively evaluate the model, now forward all test data through the neural network. Count the number of correct classifications to assess the accuracy of your model. You should be able to reach a classification accuracy of well over 90%."
      ]
    },
    {
      "cell_type": "code",
      "execution_count": 47,
      "metadata": {
        "colab": {
          "base_uri": "https://localhost:8080/"
        },
        "id": "5nqKsc_Lr0Mm",
        "outputId": "ffe30a95-cb76-437f-d05c-a54543353058"
      },
      "outputs": [
        {
          "name": "stdout",
          "output_type": "stream",
          "text": [
            "Accuracy: 0.9707\n"
          ]
        }
      ],
      "source": [
        "transform = transforms.Compose([\n",
        "    transforms.Pad(2),\n",
        "    transforms.ToTensor(),\n",
        "    transforms.Normalize((0.5,), (0.5,))\n",
        "])\n",
        "\n",
        "testset = torchvision.datasets.MNIST(root='./data', train=False, download=True, transform=transform)\n",
        "testloader = DataLoader(testset, batch_size=16, shuffle=False)\n",
        "\n",
        "total = 0\n",
        "correct = 0\n",
        "\n",
        "for data in testloader:\n",
        "    inputs, labels = data\n",
        "    inputs = inputs.cuda()\n",
        "    labels = labels.cuda()\n",
        "\n",
        "    outputs = model(inputs)\n",
        "    _, predicted = torch.max(outputs.data, 1)\n",
        "\n",
        "    total += labels.size(0)\n",
        "    correct += (predicted == labels).sum().item()\n",
        "\n",
        "accuracy = correct / total\n",
        "print(f'Accuracy: {accuracy}')"
      ]
    },
    {
      "attachments": {},
      "cell_type": "markdown",
      "metadata": {
        "id": "hg5H0pWjr0Mm"
      },
      "source": [
        "## Scaling up experiments\n",
        "\n",
        "When you want to solve a new problem with deep learning, you will have to experiment with different model architectures and hyper parameters. In this case, having a good and systematic experimentation workflow will help you.\n",
        "\n",
        "### Saving and loading models\n",
        "\n",
        "In the previous assignments, you probably trained the neural network, and then immediately tested the performance with the trained model still in memory. However, if you shut down the notebook, or revisit it later, you might have to do the training again. For this simple example, training is a breeze, but for larger experiments, training can take hours, days or even [weeks](https://deepmind.com/blog/article/alphago-zero-starting-scratch). In this case, you might want to store the final model, as well as intermediate checkpoints during training.\n",
        "\n",
        "To store a model, you basically need to store all the weights, which you can iterate using the `parameters()` function used earlier. However, to store and load the parameters, Pytorch also provides access to the `state_dict`, which basically maps all parameters of the model layers to keys in a dictionary. Pytorch also provides methods to save or load a `state_dict` to or from file.\n",
        "\n",
        "To save model parameters, use the `torch.save()` function with a file name and a `state_dict`, returned by `nn.Module`'s `state_dict()` method:\n",
        "\n",
        "```\n",
        "torch.save(model.state_dict(), PATH)\n",
        "```\n",
        "\n",
        "To load model parameters, use the `torch.load()` function with a file name to load the `state_dict`, and `nn.Module`'s `load_state_dict()` function to actually load it into memory:\n",
        "\n",
        "```\n",
        "model.load_state_dict(torch.load(PATH))\n",
        "```\n",
        "\n",
        "It is important to note that this only stores the parameters, not the model definition. It is up to you to make sure that your model actually corresponds to the parameters you want to load. In principle, you can also use `torch.save(model)` to store the complete model. However, in this case you need to make sure that all used Python classes are available on the PYTHONPATH (in the same version) when loading the model.\n",
        "\n",
        "\n",
        "### Monitoring progress\n",
        "\n",
        "During training, you might want to track progress of your experiment. For example, you want to track the loss curve to see whether the training process is converging, or evaluate the performance on a held-out validation set to check whether the model is overfitting. A common tool for tracking and visualizing progress is [TensorBoard](https://www.tensorflow.org/tensorboard), which comes from Google's TensorFlow project. TensorBoard uses a custom log file format to write progress to, and is able to visualize these logs in an interactive web view. Luckily, Pytorch also supports the neccesary bindings to write such log files in the `torch.utils.tensorboard` package.\n",
        "\n",
        "To write log files, instaniate a `SummaryWriter` object. You can then write data using the `add_xxx` methods provided. For example use `add_scalar(key, value, iteration)` to add a value to a certain plot.\n",
        "\n",
        "```\n",
        "from torch.utils.tensorboard import SummaryWriter\n",
        "writer = SummaryWriter(logdir=\"logs\")\n",
        "\n",
        "for n_iter in range(100):\n",
        "    writer.add_scalar('Loss/train', np.random.random(), n_iter)\n",
        "    writer.add_scalar('Loss/validation', np.random.random(), n_iter)\n",
        "```\n",
        "\n",
        "To visualize the progress, you need to launch `tensorboard` with the correct `logdir`, i.e. the directory you write your log files to. When running on Google colab, you can easily spawn and see a tensorboard by executing:\n",
        "\n",
        "```\n",
        "%load_ext tensorboard\n",
        "%tensorboard --logdir logs\n",
        "```\n",
        "\n",
        "When running inside a jupyter notebook, launch TensorBoard before executing the cell that runs the training procedure, so you can track the progress while the training is running. When running locally on your PC, you can install on your system and launch it as a separate process. You can then typically see the TensorBoard by browsing to `http://localhost:6006`.\n",
        "\n",
        "\n",
        "### Reproducible experiments\n",
        "\n",
        "When executing experiments, it is a good practice to make sure that the same experiments yields the same outcomes. However, in deep learning research this is often a pain, as multiple sources of randomness will affect the performance of your model after training. Therefore, it is typically required to rerun the same experiment multiple times and report the average performance.\n",
        "\n",
        "You can also try to limit the sources of randomness, for example by fixing the random seed of the random generators. Fix the random seed of all libraries that can attribute to randomness, i.e. typically `torch` and `numpy`. Numpy provides the `seed()` method in the `random` package, whereas `torch` provides the `manual_seed()` function.\n",
        "\n",
        "```\n",
        "import torch\n",
        "import numpy as np\n",
        "torch.manual_seed(7777)\n",
        "np.random.seed(7777)\n",
        "```\n",
        "\n",
        "Be aware though that this might not be enough. For example, when running on non-deterministic hardware such as GPUs or TPUs, the results might still be different for different training runs!"
      ]
    },
    {
      "attachments": {},
      "cell_type": "markdown",
      "metadata": {
        "id": "XuS-18N6r0Mm"
      },
      "source": [
        "### Assignment 7\n",
        "\n",
        "Rewrite the train loop from Assignment 5, but now\n",
        "- store the weights of your model after each epoch;\n",
        "- monitor the training loss using TensorBoard;\n",
        "- split the train set in a train and validation set, and also log the accuracy on the validation set using TensorBoard;\n",
        "- fix the random seed and check the impact on the results.\n",
        "\n",
        "__Tip__: look at `torch.utils.data.Subset` for making a train-validation set split.\n",
        "\n",
        "__Tip 2__: to get the number value of a Tensor that represents a single value, you can use the [`item()`](https://pytorch.org/docs/stable/tensors.html#torch.Tensor.item) function, which also takes care of the detaching and copying to CPU."
      ]
    },
    {
      "cell_type": "code",
      "execution_count": 48,
      "metadata": {
        "colab": {
          "base_uri": "https://localhost:8080/"
        },
        "id": "sitB21Qor0Mm",
        "outputId": "9c2754dc-8330-4d04-dcd1-c2167a0e3c9a"
      },
      "outputs": [
        {
          "name": "stdout",
          "output_type": "stream",
          "text": [
            "[1, 2000] loss: 2.2968612335920335\n",
            "[2, 2000] loss: 4.236953939199448\n",
            "[3, 2000] loss: 2.286057431291789\n",
            "[4, 2000] loss: 0.6471002475637943\n",
            "[5, 2000] loss: 0.4567708900345024\n",
            "[6, 2000] loss: 0.3551218409803696\n",
            "[7, 2000] loss: 0.29415063724340873\n",
            "[8, 2000] loss: 0.25148880523571276\n",
            "[9, 2000] loss: 0.22199123248294927\n",
            "[10, 2000] loss: 0.20430245590687263\n"
          ]
        }
      ],
      "source": [
        "from torch.optim import SGD\n",
        "import torch.optim as optim\n",
        "import torch.nn as nn\n",
        "from torch.utils.tensorboard import SummaryWriter\n",
        "\n",
        "transform = transforms.Compose([\n",
        "    transforms.Pad(2),\n",
        "    transforms.ToTensor(),\n",
        "    transforms.Normalize((0.5,), (0.5,))\n",
        "])\n",
        "\n",
        "trainset = torchvision.datasets.MNIST(root='./data', train=True, download=True, transform=transform)\n",
        "testloader = DataLoader(trainset, batch_size=16, shuffle=True)\n",
        "\n",
        "# initialize model\n",
        "model = LeNet().cuda()\n",
        "\n",
        "# intialize optimizer\n",
        "optimizer = SGD(model.parameters(), lr=0.001)\n",
        "\n",
        "criterion = nn.CrossEntropyLoss()\n",
        "\n",
        "num_epochs = 10\n",
        "running_loss = 0\n",
        "\n",
        "writer = SummaryWriter()\n",
        "\n",
        "# start training\n",
        "for epoch in range(num_epochs):\n",
        "    for i, data in enumerate(trainloader):\n",
        "        inputs, labels = data\n",
        "\n",
        "        inputs = inputs.cuda()\n",
        "        labels = labels.cuda()\n",
        "        # zero parameter gradient\n",
        "        optimizer.zero_grad()\n",
        "\n",
        "        # forward, backward, optimize\n",
        "        outputs = model(inputs).cuda()\n",
        "\n",
        "        loss = criterion(outputs, labels)\n",
        "  \n",
        "        loss.backward()\n",
        "        optimizer.step()\n",
        "\n",
        "        running_loss += loss.item()\n",
        "        if i % 2000 == 1999:\n",
        "            print(f'[{epoch + 1}, {i + 1}] loss: {running_loss / 2000}')\n",
        "            running_loss = 0.0\n",
        "    \n",
        "    train_loss = running_loss/len(trainloader)\n",
        "    \n",
        "    writer.add_scalar('Loss/train', train_loss, epoch)\n",
        "\n",
        "    torch.save(net.state_dict(), f'lenet_epoch{epoch}.pth')\n",
        "\n",
        "writer.close()"
      ]
    },
    {
      "attachments": {},
      "cell_type": "markdown",
      "metadata": {
        "id": "gUiI68iQr0Mm"
      },
      "source": [
        "## Closing remarks\n",
        "\n",
        "In this Lab session you got to know the basics of Pytorch. Of course there is a lot still to discover. You can definitely find a lot more tutorials on the Internet, and the [Pytorch docs](https://pytorch.org/docs/stable/) is also a good source for documentation.\n",
        "\n",
        "Developing and testing new deep learning models can be quite a pain, as there are many unknowns and hyperparameters to tune. The effectivity of deep learning research hence boils down to understanding how the information and the gradients flow through your network, trying multiple configurations, being able to herd many experiments, and also just being lucky.\n",
        "\n",
        "In the next Lab sessions, we will focus on the type of models that interest us most: deep generative models."
      ]
    }
  ],
  "metadata": {
    "accelerator": "GPU",
    "colab": {
      "provenance": []
    },
    "gpuClass": "standard",
    "kernelspec": {
      "display_name": "Python 3",
      "language": "python",
      "name": "python3"
    },
    "language_info": {
      "codemirror_mode": {
        "name": "ipython",
        "version": 3
      },
      "file_extension": ".py",
      "mimetype": "text/x-python",
      "name": "python",
      "nbconvert_exporter": "python",
      "pygments_lexer": "ipython3",
      "version": "3.7.6"
    }
  },
  "nbformat": 4,
  "nbformat_minor": 0
}
